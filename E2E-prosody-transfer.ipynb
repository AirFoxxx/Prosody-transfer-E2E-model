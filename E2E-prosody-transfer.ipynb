{
  "cells": [
    {
      "cell_type": "markdown",
      "source": [
        "# End-to-End prosody transfer prototype using QuartzNet, Mellotron, Tacotron, WaveGlow, Multi-Singer and HiFiGAN.\n",
        "This notebook uses resources from following repositories: \n",
        " - https://github.com/NVIDIA/mellotron\n",
        " - https://github.com/NVIDIA/NeMo\n",
        " - https://github.com/Rongjiehuang/Multi-Singer\n",
        " - https://github.com/NVIDIA/waveglow.git\n",
        "\n",
        "and is designed to run in google colab. If you want to run it locally, you might be required to install many additional dependencies!"
      ],
      "metadata": {
        "id": "7UqbF9QmMbwW"
      }
    },
    {
      "cell_type": "markdown",
      "source": [
        "This notebook requires a GPU to run properly. \n",
        "First, you must select in the top left corner => `Runtime` / `Change runtime type` => and here select a `GPU` option."
      ],
      "metadata": {
        "id": "YaoT6NglQXdJ"
      }
    },
    {
      "cell_type": "markdown",
      "source": [
        "Mounting a personal google drive with pretrained models: choose the correct account and allow access..."
      ],
      "metadata": {
        "id": "30wFaUQLSlQ7"
      }
    },
    {
      "cell_type": "code",
      "source": [
        "# Mounting a personal google drive with pretrained models: choose the correct account and allow access...\n",
        "from google.colab import drive\n",
        "drive.mount('/content/drive')"
      ],
      "metadata": {
        "id": "hMMbP_NCSaZD"
      },
      "execution_count": null,
      "outputs": []
    },
    {
      "cell_type": "code",
      "source": [
        "%cd /content/\n",
        "! ls"
      ],
      "metadata": {
        "id": "xDblKoRTU8IG"
      },
      "execution_count": null,
      "outputs": []
    },
    {
      "cell_type": "markdown",
      "source": [
        "*If the repo already exists in your local files, run the cell below to get rid of it and instatantiate new copy*\n"
      ],
      "metadata": {
        "id": "ZMOQ9Z2VOA_U"
      }
    },
    {
      "cell_type": "code",
      "source": [
        "# remove repository from previous testing instances\n",
        "! rm -r mellotron\n",
        "# clone the Mellotron repository\n",
        "! git clone https://github.com/NVIDIA/mellotron.git"
      ],
      "metadata": {
        "id": "ixzSE8cddXm6"
      },
      "execution_count": null,
      "outputs": []
    },
    {
      "cell_type": "markdown",
      "source": [
        "Descend into the repo and list directory contents"
      ],
      "metadata": {
        "id": "PfPenxYnOZ83"
      }
    },
    {
      "cell_type": "code",
      "source": [
        "%cd /content/mellotron\n",
        "! ls"
      ],
      "metadata": {
        "id": "8FMH_hs0OWCa"
      },
      "execution_count": null,
      "outputs": []
    },
    {
      "cell_type": "markdown",
      "source": [
        "## Initializing Git submodule for waveglow\n",
        "WaveGlow is used as a default vocoder for Mellotron."
      ],
      "metadata": {
        "id": "v4oNsWTIOfGM"
      }
    },
    {
      "cell_type": "code",
      "source": [
        "# this cell makes sure the sub-repository initially used by Mellotron is intialized\n",
        "! git submodule init\n",
        "! git submodule update"
      ],
      "metadata": {
        "id": "TVqFN8b3OjnC"
      },
      "execution_count": null,
      "outputs": []
    },
    {
      "cell_type": "markdown",
      "source": [
        "Copy large files (pretrained models) from the mapped GDrive to the local filesystem."
      ],
      "metadata": {
        "id": "JR1rWm-0O7kw"
      }
    },
    {
      "cell_type": "code",
      "source": [
        "!cp -r /content/drive/MyDrive/models/ .\n",
        "! ls"
      ],
      "metadata": {
        "id": "2OwKySjnO5P2"
      },
      "execution_count": null,
      "outputs": []
    },
    {
      "cell_type": "markdown",
      "source": [
        "Mellotron needs many dependencies as described by requirements.txt\n",
        "- matplotlib==2.1.0\n",
        "- tensorflow==1.15.2\n",
        "- inflect==0.2.5\n",
        "- librosa==0.6.0\n",
        "- scipy==1.0.0\n",
        "- tensorboardX==1.1\n",
        "- Unidecode==1.0.22\n",
        "- pillow\n",
        "- nltk==3.4.5\n",
        "- jamo==0.4.1\n",
        "- music21"
      ],
      "metadata": {
        "id": "rDu53pqsPMIO"
      }
    },
    {
      "cell_type": "code",
      "source": [
        "# We create a new requirement file, since google colab comes with many of these programs preinstalled and their succesive installation throws errors.\n",
        "! touch newReqs.txt\n",
        "! echo 'Unidecode==1.0.22' > newReqs.txt\n",
        "! echo 'tensorflow==1.15.2' >> newReqs.txt"
      ],
      "metadata": {
        "id": "i5JtnfHyPJM3"
      },
      "execution_count": null,
      "outputs": []
    },
    {
      "cell_type": "markdown",
      "source": [
        "*Unidecode is not preinstalled by colab.*\n",
        "*Tensorflow is included in colab, but versions 0.2.0 and newer removed an attribute called \"contrib\". Mellotron requires a older version of tensorflow to function properly.*"
      ],
      "metadata": {
        "id": "0Havng2aP7U3"
      }
    },
    {
      "cell_type": "code",
      "source": [
        "# requirement installation - can take a while.\n",
        "! pip install -r newReqs.txt"
      ],
      "metadata": {
        "id": "HV7WRspHQRrE"
      },
      "execution_count": null,
      "outputs": []
    }
  ],
  "metadata": {
    "kernelspec": {
      "display_name": "Python 3",
      "language": "python",
      "name": "python3"
    },
    "language_info": {
      "codemirror_mode": {
        "name": "ipython",
        "version": 3
      },
      "file_extension": ".py",
      "mimetype": "text/x-python",
      "name": "python",
      "nbconvert_exporter": "python",
      "pygments_lexer": "ipython3",
      "version": "3.6.8"
    },
    "colab": {
      "name": "E2E-prosody-transfer.ipynb",
      "provenance": [],
      "collapsed_sections": []
    },
    "accelerator": "GPU"
  },
  "nbformat": 4,
  "nbformat_minor": 0
}