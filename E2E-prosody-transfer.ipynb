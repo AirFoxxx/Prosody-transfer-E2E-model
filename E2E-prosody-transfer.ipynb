{
  "cells": [
    {
      "cell_type": "markdown",
      "source": [
        "First, select => Runtime / Change runtime type\n",
        "and here select a GPU"
      ],
      "metadata": {
        "id": "YaoT6NglQXdJ"
      }
    },
    {
      "cell_type": "markdown",
      "source": [
        "Mounting a personal google drive with pretrained models: choose the correct account and allow access..."
      ],
      "metadata": {
        "id": "30wFaUQLSlQ7"
      }
    },
    {
      "cell_type": "code",
      "source": [
        "from google.colab import drive\n",
        "drive.mount('/content/drive')"
      ],
      "metadata": {
        "id": "hMMbP_NCSaZD"
      },
      "execution_count": null,
      "outputs": []
    },
    {
      "cell_type": "code",
      "source": [
        "%cd /content/"
      ],
      "metadata": {
        "id": "xDblKoRTU8IG"
      },
      "execution_count": null,
      "outputs": []
    },
    {
      "cell_type": "code",
      "source": [
        "! ls"
      ],
      "metadata": {
        "id": "ixzSE8cddXm6"
      },
      "execution_count": null,
      "outputs": []
    }
  ],
  "metadata": {
    "kernelspec": {
      "display_name": "Python 3",
      "language": "python",
      "name": "python3"
    },
    "language_info": {
      "codemirror_mode": {
        "name": "ipython",
        "version": 3
      },
      "file_extension": ".py",
      "mimetype": "text/x-python",
      "name": "python",
      "nbconvert_exporter": "python",
      "pygments_lexer": "ipython3",
      "version": "3.6.8"
    },
    "colab": {
      "name": "E2E-prosody-transfer.ipynb",
      "provenance": [],
      "collapsed_sections": []
    },
    "accelerator": "GPU"
  },
  "nbformat": 4,
  "nbformat_minor": 0
}